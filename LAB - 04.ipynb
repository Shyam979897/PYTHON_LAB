{
 "cells": [
  {
   "cell_type": "markdown",
   "id": "9a690d38-44f1-40de-b680-df05e317b893",
   "metadata": {},
   "source": [
    "# LAB -04"
   ]
  },
  {
   "cell_type": "markdown",
   "id": "28efd703-cb1e-4be1-b273-4c543c85b89b",
   "metadata": {},
   "source": [
    "## <font color ='orange'>Exp - 01</font>"
   ]
  },
  {
   "cell_type": "code",
   "execution_count": 18,
   "id": "a90484f9-a166-4484-8beb-e5bf18af52f6",
   "metadata": {},
   "outputs": [
    {
     "name": "stdout",
     "output_type": "stream",
     "text": [
      "number of palinderome no is 2\n"
     ]
    }
   ],
   "source": [
    "text ='This is a banana and 32323'\n",
    "c=0\n",
    "for txt in text.split(' '):\n",
    "    if(txt ==txt[::-1]):\n",
    "        c+=1\n",
    "print(f'number of palinderome no is {c}')"
   ]
  },
  {
   "cell_type": "markdown",
   "id": "7bcb47af-73f8-4660-8a56-1e3ef4e8bf6e",
   "metadata": {},
   "source": [
    "## <font color ='orange'>Exp - 02</font>"
   ]
  },
  {
   "cell_type": "code",
   "execution_count": 115,
   "id": "1c80d657-e120-4338-b0b7-92bd6fb402e4",
   "metadata": {},
   "outputs": [
    {
     "name": "stdin",
     "output_type": "stream",
     "text": [
      "Enter the input data: 4\n",
      " 4\n",
      " 4\n",
      " 3\n",
      " 2\n"
     ]
    },
    {
     "name": "stdout",
     "output_type": "stream",
     "text": [
      "[2, 3, 4, 4]\n",
      "3.25\n",
      "3.5\n",
      "{2: 1, 3: 1, 4: 1}\n",
      "----------\n",
      "4\n"
     ]
    }
   ],
   "source": [
    "import numpy as np\n",
    "import statistics\n",
    "# def mean(arr):\n",
    "frequency = {}\n",
    "n = int(input('Enter the input data:'))\n",
    "lst =[]\n",
    "sum =0\n",
    "for i in range(n):\n",
    "    ind = int(input())\n",
    "    lst.append(ind) \n",
    "    sum =sum + ind\n",
    "    mean = sum/n\n",
    "\n",
    "lst.sort()\n",
    "print(lst)\n",
    "print(mean)\n",
    "c=0\n",
    "v1 = 0\n",
    "v2=0\n",
    "mid = int(n/2)\n",
    "if (n%2 !=0):\n",
    "    c = lst[mid]\n",
    "    median = c\n",
    "\n",
    "else:\n",
    "    v1 = lst[int(mid)-1]\n",
    "    v2 = lst[int(mid)]\n",
    "    median = (v1+v2)/2\n",
    "print(median)\n",
    "median = statistics.median(lst)\n",
    "\n",
    "for num in lst:\n",
    "        if num in frequency:\n",
    "            frequency[num ] ==1\n",
    "        else:\n",
    "            frequency[num] =1\n",
    "        \n",
    "print(frequency)\n",
    "# print(lst)\n",
    "print('----------')\n",
    "mode = statistics.mode(lst)\n",
    "print(mode)"
   ]
  },
  {
   "cell_type": "markdown",
   "id": "5729d5be-9a28-4695-87c7-d44624fcccea",
   "metadata": {},
   "source": [
    "## <font color ='orange'>Exp - 03</font>"
   ]
  },
  {
   "cell_type": "code",
   "execution_count": 124,
   "id": "1455efb7-a8d9-40af-89e0-7e101162361c",
   "metadata": {},
   "outputs": [
    {
     "name": "stdout",
     "output_type": "stream",
     "text": [
      "{'CS1001': 'Python', 'MA2001': 'Mathematics-III', 'CS2003': 'COA', 'CS2005': 'TOC', 'CS2007': 'Algorithms'}\n"
     ]
    }
   ],
   "source": [
    "course_code=['CS1001','MA2001','CS2003','CS2005','CS2007']\n",
    "course_title=['Python','Mathematics-III','COA','TOC','Algorithms']\n",
    "dict={}\n",
    "for key,value in zip(course_code,course_title):\n",
    "    dict[key]=value\n",
    "print(dict)"
   ]
  },
  {
   "cell_type": "markdown",
   "id": "de3ab68c-ee1c-4ab4-9d7f-1d3928d75b3a",
   "metadata": {},
   "source": [
    "## <font color ='orange'>Exp - 04</font>"
   ]
  },
  {
   "cell_type": "code",
   "execution_count": 120,
   "id": "d8e92ee3-e0cb-499c-aee9-26ef1901c6b7",
   "metadata": {},
   "outputs": [
    {
     "name": "stdout",
     "output_type": "stream",
     "text": [
      "All Artists :  {'bob', 'alice', 'eve', 'frank', 'david', 'charlie'}\n",
      "All Rounder :  {'david', 'charlie'}\n",
      "Dancer Not Singer :  {'eve', 'frank'}\n",
      "Singer Not Dancer :  {'bob', 'alice'}\n",
      "Dancer Or Singer :  {'bob', 'alice', 'eve', 'frank'}\n"
     ]
    }
   ],
   "source": [
    "singer={'alice','bob','charlie','david'}\n",
    "dancer={'charlie','david','eve','frank'}\n",
    "all_artists=singer|dancer\n",
    "all_rounder=singer&dancer\n",
    "dancer_not_singer=dancer-singer\n",
    "singer_not_dancer=singer-dancer\n",
    "dancer_or_singer=(dancer-singer)|(singer-dancer)\n",
    "print(\"All Artists : \",all_artists)\n",
    "print(\"All Rounder : \",all_rounder)\n",
    "print(\"Dancer Not Singer : \",dancer_not_singer)\n",
    "print(\"Singer Not Dancer : \",singer_not_dancer)\n",
    "print(\"Dancer Or Singer : \",dancer_or_singer)"
   ]
  },
  {
   "cell_type": "code",
   "execution_count": null,
   "id": "35b49bf2-d651-4010-8338-c09d2a19548e",
   "metadata": {},
   "outputs": [],
   "source": []
  }
 ],
 "metadata": {
  "kernelspec": {
   "display_name": "Python 3 (ipykernel)",
   "language": "python",
   "name": "python3"
  },
  "language_info": {
   "codemirror_mode": {
    "name": "ipython",
    "version": 3
   },
   "file_extension": ".py",
   "mimetype": "text/x-python",
   "name": "python",
   "nbconvert_exporter": "python",
   "pygments_lexer": "ipython3",
   "version": "3.11.7"
  }
 },
 "nbformat": 4,
 "nbformat_minor": 5
}
