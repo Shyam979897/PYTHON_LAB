{
 "cells": [
  {
   "cell_type": "markdown",
   "id": "15ec09b8-0107-498d-99af-f57a8b34c740",
   "metadata": {},
   "source": [
    "## <font color='orange'>Exp-1</font>"
   ]
  },
  {
   "cell_type": "code",
   "execution_count": 16,
   "id": "a4fdd5af-26c5-49ee-bd08-7b44101a5902",
   "metadata": {},
   "outputs": [
    {
     "name": "stdin",
     "output_type": "stream",
     "text": [
      "Enter n: 5\n"
     ]
    },
    {
     "name": "stdout",
     "output_type": "stream",
     "text": [
      "5   25\n",
      "4   41\n",
      "3   50\n",
      "2   54\n",
      "1   55\n"
     ]
    }
   ],
   "source": [
    "n= int(input('Enter n:'))\n",
    "a =0\n",
    "while(n>0):\n",
    "     a=a+ (n)**2\n",
    "     n=n-1\n",
    "    \n",
    "     print(n+1 , ' ' ,a)\n",
    "    "
   ]
  },
  {
   "cell_type": "markdown",
   "id": "30b42c2f-95c5-4d48-85e6-82acbd312a09",
   "metadata": {},
   "source": [
    "## <font color='orange'>Exp-02</font>"
   ]
  },
  {
   "cell_type": "code",
   "execution_count": 28,
   "id": "aa5a6b9d-8c3a-4ed8-834e-1f9fa81b68b0",
   "metadata": {},
   "outputs": [
    {
     "name": "stdin",
     "output_type": "stream",
     "text": [
      "Enter n: 123\n"
     ]
    },
    {
     "name": "stdout",
     "output_type": "stream",
     "text": [
      "6\n"
     ]
    }
   ],
   "source": [
    "n = int(input('Enter n:'))\n",
    "a=0\n",
    "while(n!=0):\n",
    "    r=n%10\n",
    "    a=a+r\n",
    "    n=n//10\n",
    "print(a)\n",
    "\n"
   ]
  },
  {
   "cell_type": "markdown",
   "id": "6e53f3e5-3b9c-4902-860a-7578cf6d10c0",
   "metadata": {},
   "source": [
    "## <font color='orange'>Exp-03</font>"
   ]
  },
  {
   "cell_type": "code",
   "execution_count": 17,
   "id": "571400d5-c524-4367-9239-d9d1d617eebb",
   "metadata": {},
   "outputs": [
    {
     "name": "stdin",
     "output_type": "stream",
     "text": [
      "Enter n: 5\n"
     ]
    },
    {
     "name": "stdout",
     "output_type": "stream",
     "text": [
      "1\n",
      "1\n",
      "2\n",
      "3\n",
      "5\n"
     ]
    }
   ],
   "source": [
    "n= int(input('Enter n:'))\n",
    "a,b=1,1\n",
    "i=0\n",
    "c=0\n",
    "print('1')\n",
    "# print('1')\n",
    "while(i<n-1):\n",
    "    c=a+b\n",
    "    a=b\n",
    "    b=c\n",
    "    i+=1\n",
    "    print(a)\n",
    "    \n",
    "    "
   ]
  },
  {
   "cell_type": "markdown",
   "id": "8789e954-be06-4afa-9d15-dbd70859a1fc",
   "metadata": {},
   "source": [
    "## <font color='orange'>Exp-04</font>"
   ]
  },
  {
   "cell_type": "code",
   "execution_count": 23,
   "id": "13cdacea-1474-47dc-b3b6-01bd18d1f1d1",
   "metadata": {},
   "outputs": [
    {
     "name": "stdin",
     "output_type": "stream",
     "text": [
      "Enter n: 5\n"
     ]
    },
    {
     "name": "stdout",
     "output_type": "stream",
     "text": [
      "50\n",
      "45\n",
      "40\n",
      "35\n",
      "30\n",
      "25\n",
      "20\n",
      "15\n",
      "10\n",
      "5\n"
     ]
    }
   ],
   "source": [
    "n =int(input('Enter n:'))\n",
    "for i in range(10,0,-1):\n",
    "    print(5*i)"
   ]
  },
  {
   "cell_type": "markdown",
   "id": "9ae66efc-1931-4fd9-9a71-12fd6d6f9acd",
   "metadata": {},
   "source": [
    "## <font color='orange'>Exp-05</font>"
   ]
  },
  {
   "cell_type": "code",
   "execution_count": 42,
   "id": "8567b837-ef0a-4bc2-beaf-0af634be0920",
   "metadata": {},
   "outputs": [
    {
     "name": "stdin",
     "output_type": "stream",
     "text": [
      "Enter str: kadkjk244\n"
     ]
    },
    {
     "name": "stdout",
     "output_type": "stream",
     "text": [
      "ALPHANUMERIC\n"
     ]
    }
   ],
   "source": [
    "str = input('Enter str:')\n",
    "c=0\n",
    "for i in str:\n",
    "    if((ord(i)>=65 and ord(i)<=90) or (ord(i)>=48 and ord(i)<=57) or (ord(i)>=97 and ord(i)<=122)):\n",
    "        c=c+0\n",
    "\n",
    "    else:\n",
    "        c=c+1\n",
    "        \n",
    "if(c != 0):\n",
    "    print('Not ALPHANUMERIC')\n",
    "else:\n",
    "    print('ALPHANUMERIC')\n",
    "        "
   ]
  },
  {
   "cell_type": "markdown",
   "id": "28f340f9-7630-4748-942d-074614461587",
   "metadata": {},
   "source": [
    "## <font color='orange'>Exp-06</font>"
   ]
  },
  {
   "cell_type": "code",
   "execution_count": 46,
   "id": "800a5b54-7448-4963-b54c-5048f0fd4368",
   "metadata": {},
   "outputs": [
    {
     "name": "stdin",
     "output_type": "stream",
     "text": [
      "Enter str: shyam raj\n",
      "Enter character: a\n"
     ]
    },
    {
     "name": "stdout",
     "output_type": "stream",
     "text": [
      "2\n"
     ]
    }
   ],
   "source": [
    "str = input('Enter str:')\n",
    "a = input('Enter character:')\n",
    "c=0\n",
    "for i in str:\n",
    "    if(a == i):\n",
    "        c=c+1\n",
    "print(c)\n",
    "    "
   ]
  },
  {
   "cell_type": "code",
   "execution_count": null,
   "id": "545d7c70-ca55-4894-8c8c-78ac16431a37",
   "metadata": {},
   "outputs": [],
   "source": []
  }
 ],
 "metadata": {
  "kernelspec": {
   "display_name": "Python 3 (ipykernel)",
   "language": "python",
   "name": "python3"
  },
  "language_info": {
   "codemirror_mode": {
    "name": "ipython",
    "version": 3
   },
   "file_extension": ".py",
   "mimetype": "text/x-python",
   "name": "python",
   "nbconvert_exporter": "python",
   "pygments_lexer": "ipython3",
   "version": "3.11.7"
  }
 },
 "nbformat": 4,
 "nbformat_minor": 5
}
