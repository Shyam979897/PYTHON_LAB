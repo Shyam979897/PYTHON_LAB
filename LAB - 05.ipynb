{
 "cells": [
  {
   "cell_type": "markdown",
   "id": "6e491a92-afd3-47bd-ae85-ae0eca8e53d7",
   "metadata": {},
   "source": [
    "# LAB - 05\n"
   ]
  },
  {
   "cell_type": "markdown",
   "id": "2af36263-d2a4-4385-b379-0b2eab97138c",
   "metadata": {},
   "source": [
    "## <font color = 'orange'>EXP - 01</font>"
   ]
  },
  {
   "cell_type": "code",
   "execution_count": 15,
   "id": "62b43688-0b58-46d8-8515-b214d6d25de5",
   "metadata": {},
   "outputs": [
    {
     "name": "stdout",
     "output_type": "stream",
     "text": [
      "((1, 5), (2, 2), (3, 6))\n",
      "5.0\n"
     ]
    }
   ],
   "source": [
    "t1 = (1,2,3)\n",
    "t2 = (5,2,6)\n",
    "tup = tuple(zip(t1,t2))\n",
    "dist = 0\n",
    "print(tup)\n",
    "for i in tup:\n",
    "    dist = dist + ((i[0] - i[1])**2)\n",
    "print(dist**0.5)"
   ]
  },
  {
   "cell_type": "markdown",
   "id": "eda223da-dbc8-4ec2-948d-2c4adcccfa36",
   "metadata": {},
   "source": [
    "## <font color = 'orange'>EXP - 02</font>"
   ]
  },
  {
   "cell_type": "code",
   "execution_count": 1,
   "id": "22f1028c-4d1f-48dc-8cb6-ab8da7dbc2dd",
   "metadata": {},
   "outputs": [
    {
     "name": "stdin",
     "output_type": "stream",
     "text": [
      "Enter the names: shyam swaym jasii rohit\n",
      "Enter the roll no: 1 2 3 4\n",
      "Enter the marks: 45 65 87 12\n"
     ]
    },
    {
     "name": "stdout",
     "output_type": "stream",
     "text": [
      "[('rohit', 4, 12), ('shyam', 1, 45), ('swaym', 2, 65), ('jasii', 3, 87)]\n"
     ]
    }
   ],
   "source": [
    "k = input(\"Enter the names:\").split()\n",
    "l1 = [i for i in k]\n",
    "l2 = [i for i in map(int,input('Enter the roll no:').split())]\n",
    "l3 = [i for i in map(int,input('Enter the marks:').split())]\n",
    "lst = zip(l1,l2,l3)\n",
    "lst = list(lst)\n",
    "lst = sorted(lst , key = lambda  x:x[2])\n",
    "print(lst)"
   ]
  },
  {
   "cell_type": "markdown",
   "id": "4978e447-6ad9-459b-8046-89974298a8b6",
   "metadata": {},
   "source": [
    "## <font color = 'orange'>EXP - 03</font>"
   ]
  },
  {
   "cell_type": "code",
   "execution_count": 3,
   "id": "df177b69-59b7-451f-8e35-099cb7bca1b5",
   "metadata": {},
   "outputs": [
    {
     "name": "stdin",
     "output_type": "stream",
     "text": [
      "Enter the names: a b c\n",
      "Enter the roll no: 1 2 3\n",
      "Enter the marks: 65 34 12\n"
     ]
    },
    {
     "name": "stdout",
     "output_type": "stream",
     "text": [
      "[('a', 1, 65), ('b', 2, 34), ('c', 3, 12)]\n",
      "[('c', 3, 12), ('b', 2, 34), ('a', 1, 65)]\n"
     ]
    }
   ],
   "source": [
    "k = input(\"Enter the names:\").split()\n",
    "l1 = [i for i in k]\n",
    "l2 = [i for i in map(int,input('Enter the roll no:').split())]\n",
    "l3 = [i for i in map(int,input('Enter the marks:').split())]\n",
    "lst =[]\n",
    "for i in range(len(k)):\n",
    "    A = (l1[i],l2[i],l3[i])\n",
    "    lst.append(A)\n",
    "print(lst)\n",
    "for i in range(len(lst)):\n",
    "    for j in range( i+1 , len(lst)):\n",
    "        if lst[i][2] > lst[j][2]:\n",
    "            lst[i] , lst[j] = lst[j] , lst[i]\n",
    "print(lst)"
   ]
  },
  {
   "cell_type": "markdown",
   "id": "7902d5a6-cbbf-432f-a4bb-9cb483480dcd",
   "metadata": {},
   "source": [
    "## <font color = 'orange'>EXP - 06</font>"
   ]
  },
  {
   "cell_type": "code",
   "execution_count": 117,
   "id": "86ac3b3b-dacf-411a-870d-02c332d6460d",
   "metadata": {},
   "outputs": [
    {
     "name": "stdin",
     "output_type": "stream",
     "text": [
      "Enter the string: shyam kumar\n"
     ]
    },
    {
     "name": "stdout",
     "output_type": "stream",
     "text": [
      "{'s': 1, 'h': 1, 'y': 1, 'a': 2, 'm': 2, 'k': 1, 'u': 1, 'r': 1}\n"
     ]
    }
   ],
   "source": [
    "str = input('Enter the string:')\n",
    "data = str.split()\n",
    "dict = {}\n",
    "for i in data:\n",
    "    for j in i:\n",
    "       if ( j not in dict ):\n",
    "           dict[j] = 1\n",
    "       else :\n",
    "            dict[j] +=1\n",
    "print(dict)\n",
    "    "
   ]
  },
  {
   "cell_type": "markdown",
   "id": "c55ce938-803f-48a0-8e90-a774c00a36bb",
   "metadata": {},
   "source": [
    "## <font color = 'orange'>EXP - 05</font>"
   ]
  },
  {
   "cell_type": "code",
   "execution_count": 135,
   "id": "46ff5aa5-96bd-4e11-8bc1-4c1b8a1ea66c",
   "metadata": {},
   "outputs": [
    {
     "name": "stdin",
     "output_type": "stream",
     "text": [
      "enter the name: shyam\n",
      "enter the marks: 78\n",
      "enter the name: shubham\n",
      "enter the marks: 98\n",
      "enter the name: Rohit\n",
      "enter the marks: 78\n",
      "enter the name: Dhoni\n",
      "enter the marks: 78\n",
      "enter the name: Riya\n",
      "enter the marks: 89\n"
     ]
    },
    {
     "name": "stdout",
     "output_type": "stream",
     "text": [
      "high performers:  2\n",
      "['shubham', 'Riya']\n",
      "average performers:  3\n",
      "['shyam', 'Rohit', 'Dhoni']\n",
      "low performers:  0\n",
      "[]\n",
      "highest marks:  shubham\n"
     ]
    }
   ],
   "source": [
    "dict={}\n",
    "for i in range(5):\n",
    "    s=input('enter the name:')\n",
    "    m=int(input(\"enter the marks:\"))\n",
    "    dict[s]=m\n",
    "l1=[]\n",
    "l2=[]\n",
    "l3=[]  \n",
    "m=0  \n",
    "a=\"\"\n",
    "for i in dict:   \n",
    "    if(dict[i]>=85):\n",
    "        l1.append(i)\n",
    "        if(dict[i]>=m):\n",
    "            m=dict[i]\n",
    "            a=i\n",
    "    elif(dict[i]>=60):\n",
    "        l2.append(i) \n",
    "    else:\n",
    "        l3.append(i)\n",
    "print(\"high performers: \",len(l1))\n",
    "print(l1)\n",
    "print(\"average performers: \",len(l2))\n",
    "print(l2)\n",
    "print(\"low performers: \",len(l3))\n",
    "print(l3)\n",
    "print(\"highest marks: \",a)"
   ]
  },
  {
   "cell_type": "markdown",
   "id": "c609ea97-b8f6-4cb8-9478-f75cc3cbe0de",
   "metadata": {},
   "source": [
    "## <font color = 'orange'>EXP - 04</font>"
   ]
  },
  {
   "cell_type": "code",
   "execution_count": 133,
   "id": "902530ca-eb56-40ee-b6c9-33866590efae",
   "metadata": {},
   "outputs": [
    {
     "name": "stdin",
     "output_type": "stream",
     "text": [
      "enter the name: shyam\n",
      "enter the salary: 87\n",
      "enter the name: rohit\n",
      "enter the salary: 56\n",
      "enter the name: yuvraj\n",
      "enter the salary: 98\n",
      "enter the name: you\n",
      "enter the salary: 45\n",
      "enter the name: shyam\n",
      "enter the salary: 45\n"
     ]
    },
    {
     "name": "stdout",
     "output_type": "stream",
     "text": [
      "1 yuvraj : 98\n",
      "2 shyam : 87\n",
      "3 rohit : 56\n",
      "4 shyam : 45\n"
     ]
    }
   ],
   "source": [
    "dict={}\n",
    "for i in range(5):\n",
    "    s=input(\"enter the name:\")\n",
    "    n=int(input(\"enter the salary:\"))\n",
    "    dict[n]=s\n",
    "l=list(dict.keys())\n",
    "for i in range(0,len(l)):\n",
    "    for j in range(i+1,len(l)):\n",
    "        if(l[i]<l[j]):\n",
    "            l[i],l[j]=l[j],l[i]\n",
    "for i in range(0,len(l)):\n",
    "    print(i+1,dict[l[i]],\":\",l[i])"
   ]
  },
  {
   "cell_type": "markdown",
   "id": "acdd8c9f-aa18-4d70-834b-bbe27b059b14",
   "metadata": {},
   "source": [
    "## <font color = 'orange'>EXP - 05</font>"
   ]
  },
  {
   "cell_type": "code",
   "execution_count": 15,
   "id": "049bfeda-cf0d-457e-bc49-ee6e11d3cd2d",
   "metadata": {},
   "outputs": [
    {
     "name": "stdin",
     "output_type": "stream",
     "text": [
      "Enter coordinates of point 1 (x, y):  1,2\n",
      "Enter coordinates of point 2 (x, y):  4,3\n"
     ]
    },
    {
     "name": "stdout",
     "output_type": "stream",
     "text": [
      "The equation of the straight line is: (x - 1.0) = 3.0(y - 2.0)\n"
     ]
    }
   ],
   "source": [
    "# Take input for two points using comprehension\n",
    "points = [tuple(map(float, input(f\"Enter coordinates of point {i+1} (x, y): \").split(','))) for i in range(2)]\n",
    "\n",
    "# Extract coordinates\n",
    "(x1, y1), (x2, y2) = points\n",
    "\n",
    "# Compute the slope (x1-x2)/(y1-y2) and construct the equation\n",
    "if y1 != y2:  # Avoid division by zero\n",
    "    slope = (x1 - x2) / (y1 - y2)\n",
    "    print(f\"The equation of the straight line is: (x - {x1}) = {slope}(y - {y1})\")\n",
    "else:\n",
    "    print(f\"The line is vertical. The equation is: x = {x1}\")\n"
   ]
  },
  {
   "cell_type": "code",
   "execution_count": null,
   "id": "dcfbb2b4-b8ee-4642-af3d-5f4035f0e30e",
   "metadata": {},
   "outputs": [],
   "source": []
  },
  {
   "cell_type": "markdown",
   "id": "9fb15357-de83-45d0-9a4d-0cc7f87eb5ae",
   "metadata": {},
   "source": [
    "## <font color = 'orange'>EXP - 07</font>"
   ]
  },
  {
   "cell_type": "code",
   "execution_count": null,
   "id": "8c9a6b4a-fcd1-4552-8d0a-50e68341844e",
   "metadata": {},
   "outputs": [],
   "source": [
    "# Taking input for three lists using list comprehension\n",
    "customer_names = [input(f\"Enter name of customer {i+1}: \") for i in range(3)]\n",
    "customer_ids = [input(f\"Enter ID of customer {i+1}: \") for i in range(3)]\n",
    "shopping_points = [int(input(f\"Enter shopping points of customer {i+1}: \")) for i in range(3)]\n",
    "\n",
    "# Constructing list of tuples using zip()\n",
    "customer_details_with_zip = list(zip(customer_names, customer_ids, shopping_points))\n",
    "\n",
    "# Constructing list of tuples without using zip()\n",
    "customer_details_without_zip = [(customer_names[i], customer_ids[i], shopping_points[i]) for i in range(len(customer_names))]\n",
    "\n",
    "# Displaying the results\n",
    "print(\"\\nCustomer details using zip():\")\n",
    "print(customer_details_with_zip)\n",
    "\n",
    "print(\"\\nCustomer details without using zip():\")\n",
    "print(customer_details_without_zip)\n"
   ]
  },
  {
   "cell_type": "markdown",
   "id": "7bdae172-7246-4d45-bafc-a2b1cf8d7537",
   "metadata": {},
   "source": [
    "## <font color = 'orange'>EXP - 08</font>"
   ]
  },
  {
   "cell_type": "code",
   "execution_count": null,
   "id": "8cd4eb44-247b-4f8f-9363-2d5762088980",
   "metadata": {},
   "outputs": [],
   "source": [
    "# Sorting with sorted() function\n",
    "sorted_with_sorted = sorted(customer_details_with_zip, key=lambda x: x[2])  # Sort by shopping points (index 2)\n",
    "\n",
    "# Sorting without sorted() function (using bubble sort)\n",
    "sorted_without_sorted = customer_details_with_zip.copy()\n",
    "n = len(sorted_without_sorted)\n",
    "\n",
    "for i in range(n):\n",
    "    for j in range(n - i - 1):\n",
    "        if sorted_without_sorted[j][2] > sorted_without_sorted[j + 1][2]:  # Compare shopping points\n",
    "            sorted_without_sorted[j], sorted_without_sorted[j + 1] = sorted_without_sorted[j + 1], sorted_without_sorted[j]\n",
    "\n",
    "# Displaying the results\n",
    "print(\"\\nSorted using sorted() function:\")\n",
    "print(sorted_with_sorted)\n",
    "\n",
    "print(\"\\nSorted without using sorted() function:\")\n",
    "print(sorted_without_sorted)\n"
   ]
  }
 ],
 "metadata": {
  "kernelspec": {
   "display_name": "Python 3 (ipykernel)",
   "language": "python",
   "name": "python3"
  },
  "language_info": {
   "codemirror_mode": {
    "name": "ipython",
    "version": 3
   },
   "file_extension": ".py",
   "mimetype": "text/x-python",
   "name": "python",
   "nbconvert_exporter": "python",
   "pygments_lexer": "ipython3",
   "version": "3.11.7"
  }
 },
 "nbformat": 4,
 "nbformat_minor": 5
}
