{
 "cells": [
  {
   "cell_type": "markdown",
   "id": "d5caa03a-0f80-4120-9668-e7be90b1c700",
   "metadata": {},
   "source": [
    "# LAB - 02 "
   ]
  },
  {
   "cell_type": "markdown",
   "id": "09ac3418-ca32-4f91-b8df-850a44522322",
   "metadata": {},
   "source": [
    "## <font color ='orange'>Experiment - 01</font>"
   ]
  },
  {
   "cell_type": "markdown",
   "id": "86262c91-a3d4-4527-89b1-d3372225d326",
   "metadata": {},
   "source": [
    "<font>\n",
    "    \n",
    "    If the given string S1= “Maha Bharat”, generate the following strings by manipulating S1.\n",
    "    \r\n",
    "“mAHA bHARAT”\r\n",
    "“Bharat”\r\n",
    "“BharatBharatBharat”\r\n",
    "“Mera Bharat”\r\n",
    "“Mera Bharat Mahan”\r\n",
    "\n",
    "</font>ormat\r\n"
   ]
  },
  {
   "cell_type": "code",
   "execution_count": 4,
   "id": "154dd210-539b-469c-b813-cd54e036bf26",
   "metadata": {},
   "outputs": [],
   "source": [
    "S1 = 'Maha Bharat'\n",
    "def operation(S1):\n",
    "    O1=S1[0].lower() + S1[1:5].upper()+S1[5].lower()+S1[6:].upper()\n",
    "    O2=S1[5].upper()+S1[6:].lower()\n",
    "    O3=S1[5:]\n",
    "    O4='Mera'+' ' +S1[5:]\n",
    "    O5=O4+\" \"+\"Mahan\"\n",
    "    return O1,O2,3*O3,O4,O5"
   ]
  },
  {
   "cell_type": "code",
   "execution_count": 6,
   "id": "813674ee-1029-4a52-a0f1-1637a0ad397f",
   "metadata": {},
   "outputs": [
    {
     "data": {
      "text/plain": [
       "('mAHA bHARAT',\n",
       " 'Bharat',\n",
       " 'BharatBharatBharat',\n",
       " 'Mera Bharat',\n",
       " 'Mera Bharat Mahan')"
      ]
     },
     "execution_count": 6,
     "metadata": {},
     "output_type": "execute_result"
    }
   ],
   "source": [
    "operation(S1)"
   ]
  },
  {
   "cell_type": "markdown",
   "id": "86bee4d2-2254-4f8f-8c51-128e051185f8",
   "metadata": {},
   "source": [
    "## <font color ='orange'>Experiment - 02</font>"
   ]
  },
  {
   "cell_type": "markdown",
   "id": "0fdf4c6c-74a3-4c9d-bfd6-b7eae242cb50",
   "metadata": {},
   "source": [
    "    For the given string S=”Ba Ba Black Sheep”, determine the following using built in functions:\n",
    "    \r",
    "        \n",
    "The length of the string .\n",
    "        S        \r\n",
    "The first occurrence of the letter ‘.\n",
    "        e        ’\r\n",
    "The total number of occurrences of .\n",
    "        ‘        a’\r\n",
    "Generate “Ta Ta Black Sh.eep”\r\n"
   ]
  },
  {
   "cell_type": "code",
   "execution_count": 10,
   "id": "0111bbd4-e4cf-4a7a-82ae-7fdeec36c28b",
   "metadata": {},
   "outputs": [
    {
     "name": "stdout",
     "output_type": "stream",
     "text": [
      "Length of the string S: 17\n",
      "First occurrence of the letter 'e': 14\n",
      "Total number of occurrences of 'a': 3\n",
      "Modified string: Ta Ta Black Sheep\n"
     ]
    }
   ],
   "source": [
    "# Given string\n",
    "S = \"Ba Ba Black Sheep\"\n",
    "\n",
    "# 1. The length of the string S\n",
    "length_of_S = len(S)\n",
    "print(f\"Length of the string S: {length_of_S}\")\n",
    "\n",
    "# 2. The first occurrence of the letter ‘e’\n",
    "first_occurrence_e = S.find('e')\n",
    "print(f\"First occurrence of the letter 'e': {first_occurrence_e}\")\n",
    "\n",
    "# 3. The total number of occurrences of ‘a’\n",
    "count_of_a = S.count('a')\n",
    "print(f\"Total number of occurrences of 'a': {count_of_a}\")\n",
    "\n",
    "# 4. Generate “Ta Ta Black Sheep”\n",
    "new_string = S.replace('B', 'T', 2)\n",
    "print(f\"Modified string: {new_string}\")\n"
   ]
  },
  {
   "cell_type": "markdown",
   "id": "cecfc4e3-c812-4374-867b-338d60c99c5b",
   "metadata": {},
   "source": [
    "## <font color ='orange'>Experiment - 03</font>"
   ]
  },
  {
   "cell_type": "code",
   "execution_count": 13,
   "id": "07432e83-12dd-49be-adb5-3bd1b8f4009b",
   "metadata": {},
   "outputs": [
    {
     "name": "stdin",
     "output_type": "stream",
     "text": [
      "Enter a string:  shyam\n"
     ]
    },
    {
     "name": "stdout",
     "output_type": "stream",
     "text": [
      "The string 'shyam' is not a palindrome.\n"
     ]
    }
   ],
   "source": [
    "# Function to check if a string is a palindrome\n",
    "def is_palindrome(s):\n",
    "    # Remove spaces and convert to lowercase for uniform comparison\n",
    "    cleaned_string = s.replace(\" \", \"\").lower()\n",
    "    \n",
    "    # Check if the cleaned string is equal to its reverse\n",
    "    return cleaned_string == cleaned_string[::-1]\n",
    "\n",
    "# Input string from the user\n",
    "user_string = input(\"Enter a string: \")\n",
    "\n",
    "# Check if the string is a palindrome\n",
    "if is_palindrome(user_string):\n",
    "    print(f\"The string '{user_string}' is a palindrome.\")\n",
    "else:\n",
    "    print(f\"The string '{user_string}' is not a palindrome.\")"
   ]
  },
  {
   "cell_type": "markdown",
   "id": "6562af13-d578-4be9-9aeb-f33e90b027e2",
   "metadata": {},
   "source": [
    "## <font color ='orange'>Experiment - 04</font>"
   ]
  },
  {
   "cell_type": "markdown",
   "id": "3a484b5a-0c59-484b-a484-cd0065a1c113",
   "metadata": {},
   "source": [
    "Enter the following details of a student at run time: - Name, Roll number and marks secured for Mathematics Examination out of 100. Write a python script to display student details as shown:\n",
    "Name:\n",
    "Roll Number:\n",
    "Marks:\n",
    "Grade Point:\n",
    "Remark:\n",
    "The criteria for awarding grade point and remark are as given in the table:\n"
   ]
  },
  {
   "cell_type": "code",
   "execution_count": 17,
   "id": "7efffae3-dec1-40c8-8a23-63dd8a713151",
   "metadata": {},
   "outputs": [
    {
     "name": "stdin",
     "output_type": "stream",
     "text": [
      "Enter the student's name:  shyam \n",
      "Enter the roll number:  3\n",
      "Enter the marks secured in Mathematics out of 100:  34\n"
     ]
    },
    {
     "name": "stdout",
     "output_type": "stream",
     "text": [
      "\n",
      "Student Details:\n",
      "Name: shyam \n",
      "Roll Number: 3\n",
      "Marks: 34.0\n",
      "Grade Point: 0\n",
      "Remark: FAIL\n"
     ]
    }
   ],
   "source": [
    "# Function to determine grade point and remark based on marks\n",
    "def calculate_grade_point_and_remark(marks):\n",
    "    if marks >= 90:\n",
    "        return 10, \"OUTSTANDING\"\n",
    "    elif marks >= 80:\n",
    "        return 9, \"VERY GOOD\"\n",
    "    elif marks >= 70:\n",
    "        return 8, \"GOOD\"\n",
    "    elif marks >= 60:\n",
    "        return 7, \"AVERAGE\"\n",
    "    elif marks >= 50:\n",
    "        return 6, \"PASS\"\n",
    "    else:\n",
    "        return 0, \"FAIL\"\n",
    "\n",
    "# Input details from the user\n",
    "name = input(\"Enter the student's name: \")\n",
    "roll_number = input(\"Enter the roll number: \")\n",
    "marks = float(input(\"Enter the marks secured in Mathematics out of 100: \"))\n",
    "\n",
    "# Calculate grade point and remark\n",
    "grade_point, remark = calculate_grade_point_and_remark(marks)\n",
    "\n",
    "# Display the student details\n",
    "print(\"\\nStudent Details:\")\n",
    "print(f\"Name: {name}\")\n",
    "print(f\"Roll Number: {roll_number}\")\n",
    "print(f\"Marks: {marks}\")\n",
    "print(f\"Grade Point: {grade_point}\")\n",
    "print(f\"Remark: {remark}\")\n"
   ]
  },
  {
   "cell_type": "markdown",
   "id": "5670b83a-7535-4069-bf72-ad3a6da1aff5",
   "metadata": {},
   "source": [
    "## <font color ='orange'>Experiment - 05</font>"
   ]
  },
  {
   "cell_type": "code",
   "execution_count": 20,
   "id": "a6c72c32-f6f3-4e3e-af95-11963f530229",
   "metadata": {},
   "outputs": [
    {
     "ename": "SyntaxError",
     "evalue": "invalid character '−' (U+2212) (2593305444.py, line 2)",
     "output_type": "error",
     "traceback": [
      "\u001b[1;36m  Cell \u001b[1;32mIn[20], line 2\u001b[1;36m\u001b[0m\n\u001b[1;33m    Hint: find the discriminant d= b2 − 4ac\u001b[0m\n\u001b[1;37m                                      ^\u001b[0m\n\u001b[1;31mSyntaxError\u001b[0m\u001b[1;31m:\u001b[0m invalid character '−' (U+2212)\n"
     ]
    }
   ],
   "source": [
    "Write a program to find the roots of a quadratic equation when the coefficients a, b and c are given ( assume that a, b and c are integers)\n",
    "Hint: find the discriminant d= b2 − 4ac\n",
    "If d = 0, the equation has one real repeated root (both roots are the same: \n",
    "R1= R2 = -b/(2a)\n",
    "\n",
    "If d > 0, the equation has two distinct real roots.\n",
    "\tR1= (-b + sqrt(d))/2a\n",
    "R2= (-b - sqrt(d))/2a\n",
    " \n",
    "If d < 0, the equation has two complex roots.\n",
    "real_part = -b / (2 * a) \n",
    "imaginary_part = math.sqrt(-discriminant) / (2 * a)\n"
   ]
  },
  {
   "cell_type": "code",
   "execution_count": 22,
   "id": "f346f867-dec6-4f1e-8b22-a6f8de87cabf",
   "metadata": {},
   "outputs": [
    {
     "name": "stdin",
     "output_type": "stream",
     "text": [
      "Enter the coefficient a:  1\n",
      "Enter the coefficient b:  3\n",
      "Enter the coefficient c:  -2\n"
     ]
    },
    {
     "name": "stdout",
     "output_type": "stream",
     "text": [
      "The equation has two distinct real roots: R1 = 0.56, R2 = -3.56\n"
     ]
    }
   ],
   "source": [
    "import math\n",
    "\n",
    "# Function to calculate the roots of the quadratic equation\n",
    "def find_roots(a, b, c):\n",
    "    # Calculate the discriminant\n",
    "    discriminant = b**2 - 4*a*c\n",
    "\n",
    "    # Case 1: When discriminant is zero (one real repeated root)\n",
    "    if discriminant == 0:\n",
    "        r1 = r2 = -b / (2 * a)\n",
    "        print(f\"The equation has one real repeated root: R1 = R2 = {r1:.2f}\")\n",
    "\n",
    "    # Case 2: When discriminant is positive (two distinct real roots)\n",
    "    elif discriminant > 0:\n",
    "        r1 = (-b + math.sqrt(discriminant)) / (2 * a)\n",
    "        r2 = (-b - math.sqrt(discriminant)) / (2 * a)\n",
    "        print(f\"The equation has two distinct real roots: R1 = {r1:.2f}, R2 = {r2:.2f}\")\n",
    "\n",
    "    # Case 3: When discriminant is negative (two complex roots)\n",
    "    else:\n",
    "        real_part = -b / (2 * a)\n",
    "        imaginary_part = math.sqrt(-discriminant) / (2 * a)\n",
    "        print(f\"The equation has two complex roots: R1 = {real_part:.2f} + {imaginary_part:.2f}i, R2 = {real_part:.2f} - {imaginary_part:.2f}i\")\n",
    "\n",
    "# Input coefficients a, b, and c from the user\n",
    "a = int(input(\"Enter the coefficient a: \"))\n",
    "b = int(input(\"Enter the coefficient b: \"))\n",
    "c = int(input(\"Enter the coefficient c: \"))\n",
    "\n",
    "# Check if it's a valid quadratic equation\n",
    "if a == 0:\n",
    "    print(\"The coefficient 'a' cannot be zero in a quadratic equation.\")\n",
    "else:\n",
    "    # Call the function to find the roots\n",
    "    find_roots(a, b, c)\n"
   ]
  },
  {
   "cell_type": "code",
   "execution_count": null,
   "id": "ea4cb216-8e12-4a16-8da8-7004e8299d81",
   "metadata": {},
   "outputs": [],
   "source": []
  }
 ],
 "metadata": {
  "kernelspec": {
   "display_name": "Python 3 (ipykernel)",
   "language": "python",
   "name": "python3"
  },
  "language_info": {
   "codemirror_mode": {
    "name": "ipython",
    "version": 3
   },
   "file_extension": ".py",
   "mimetype": "text/x-python",
   "name": "python",
   "nbconvert_exporter": "python",
   "pygments_lexer": "ipython3",
   "version": "3.11.7"
  }
 },
 "nbformat": 4,
 "nbformat_minor": 5
}
