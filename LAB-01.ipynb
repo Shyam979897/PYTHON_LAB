{
 "cells": [
  {
   "cell_type": "markdown",
   "id": "b243acd8-d278-4837-a4e8-8de3b40ad6d8",
   "metadata": {},
   "source": [
    "## <center><font color = 'yellow'>Lab :(28-08-24)</font></center>"
   ]
  },
  {
   "cell_type": "markdown",
   "id": "fb7a6037-44e1-40d2-981f-ab8d9077594a",
   "metadata": {},
   "source": [
    "## <font color='orange'>EXPERIMENT: 01</font>"
   ]
  },
  {
   "cell_type": "code",
   "execution_count": 33,
   "id": "768b00ed-d7e3-42fc-96b3-cd48ce6c35cf",
   "metadata": {},
   "outputs": [],
   "source": [
    "def operation(a , b):\n",
    "    return a+b , a-b , a*b , a//b , a%b , a/b"
   ]
  },
  {
   "cell_type": "code",
   "execution_count": 35,
   "id": "f59ffbd0-aaae-455f-b751-df1d536231af",
   "metadata": {},
   "outputs": [
    {
     "name": "stdin",
     "output_type": "stream",
     "text": [
      "Enter a: 12\n",
      "Enter b: 43\n"
     ]
    }
   ],
   "source": [
    "a = int(input('Enter a:'))\n",
    "b = int(input('Enter b:'))"
   ]
  },
  {
   "cell_type": "code",
   "execution_count": 39,
   "id": "2dac41ef-c913-4a59-bb05-320e5c04eea0",
   "metadata": {},
   "outputs": [
    {
     "data": {
      "text/plain": [
       "[55, -31, 516, 0, 12, 0.27906976744186046]"
      ]
     },
     "execution_count": 39,
     "metadata": {},
     "output_type": "execute_result"
    }
   ],
   "source": [
    "list(operation(a,b))"
   ]
  },
  {
   "cell_type": "markdown",
   "id": "cce032b3-c5c5-4f19-b709-49b7a7ddefc4",
   "metadata": {},
   "source": [
    "## <font color='orange'>EXPERIMENT: 02</font>"
   ]
  },
  {
   "cell_type": "code",
   "execution_count": 137,
   "id": "689c78e1-2d8e-454e-abc5-4655a67ceede",
   "metadata": {},
   "outputs": [],
   "source": [
    "import math\n",
    "def triangle(a, b, c):\n",
    "    s = (a+b+c)/2\n",
    "    print('Area :',math.sqrt(s*(s-a)*(s-b)*(s-c)))\n",
    "    print('Periment:',2*s)\n",
    "    A = (b*b+c*c-a*a)/(2*b*c)\n",
    "    B = (a*a+c*c-b*b)/(2*a*c)\n",
    "    C = (b*b+a*a-c*c)/(2*b*a)\n",
    "    print(f\"Angle A={math.degrees(math.acos(A))}\")\n",
    "    print(f\"Angle B={math.degrees(math.acos(B))}\")\n",
    "    print(f\"Angle C={math.degrees(math.acos(C))}\")"
   ]
  },
  {
   "cell_type": "code",
   "execution_count": 139,
   "id": "cbd8ba08-5f39-41af-a934-18801fbfbd99",
   "metadata": {},
   "outputs": [
    {
     "name": "stdin",
     "output_type": "stream",
     "text": [
      "Enter a: 3\n",
      "Enter b: 4\n",
      "Enter c: 5\n"
     ]
    }
   ],
   "source": [
    "a = int(input('Enter a:'))\n",
    "b = int(input('Enter b:'))\n",
    "c = int(input('Enter c:'))"
   ]
  },
  {
   "cell_type": "code",
   "execution_count": 141,
   "id": "05cb6c7c-952b-471c-a813-878038ac15fd",
   "metadata": {},
   "outputs": [
    {
     "name": "stdout",
     "output_type": "stream",
     "text": [
      "Area : 6.0\n",
      "Periment: 12.0\n",
      "Angle A=36.86989764584401\n",
      "Angle B=53.13010235415599\n",
      "Angle C=90.0\n"
     ]
    }
   ],
   "source": [
    "triangle(a,b,c)"
   ]
  },
  {
   "cell_type": "markdown",
   "id": "5d813b7b-4855-4c74-a8fd-4ee2670158cb",
   "metadata": {},
   "source": [
    "## <font color='orange'>EXPERIMENT: 03</font>"
   ]
  },
  {
   "cell_type": "code",
   "execution_count": 153,
   "id": "f62b8dde-1e29-46ca-a30d-88709fa75004",
   "metadata": {},
   "outputs": [],
   "source": [
    "\n",
    "def deg_cel( C):\n",
    "    print(f\"Your temperature in Farenheit : {C*1.8+32}\")\n",
    "def deg_far( F):\n",
    "    print(f\"Your temperature in Farenheit : {(F-32)/1.8}\")  "
   ]
  },
  {
   "cell_type": "code",
   "execution_count": 155,
   "id": "cd57b705-0468-4135-be6e-8f246773cc61",
   "metadata": {},
   "outputs": [
    {
     "name": "stdin",
     "output_type": "stream",
     "text": [
      "Enter temp in Celsius: 40\n",
      "Enter tem in Farenheit: 35\n"
     ]
    }
   ],
   "source": [
    "C = int(input(\"Enter temp in Celsius:\"))\n",
    "F = int(input(\"Enter tem in Farenheit:\"))"
   ]
  },
  {
   "cell_type": "code",
   "execution_count": 157,
   "id": "59550ba1-c68b-4715-a52b-880ee8c16239",
   "metadata": {},
   "outputs": [
    {
     "name": "stdout",
     "output_type": "stream",
     "text": [
      "Your temperature in Farenheit : 104.0\n"
     ]
    }
   ],
   "source": [
    "deg_cel(C)"
   ]
  },
  {
   "cell_type": "code",
   "execution_count": 161,
   "id": "3d6b12f1-93b5-4675-a01e-18b66c648c5b",
   "metadata": {},
   "outputs": [
    {
     "name": "stdout",
     "output_type": "stream",
     "text": [
      "Your temperature in Farenheit : 1.6666666666666665\n"
     ]
    }
   ],
   "source": [
    "deg_far(F)"
   ]
  },
  {
   "cell_type": "code",
   "execution_count": null,
   "id": "6a23f219-3902-4fa2-815a-1571518d1834",
   "metadata": {},
   "outputs": [],
   "source": []
  }
 ],
 "metadata": {
  "kernelspec": {
   "display_name": "Python 3 (ipykernel)",
   "language": "python",
   "name": "python3"
  },
  "language_info": {
   "codemirror_mode": {
    "name": "ipython",
    "version": 3
   },
   "file_extension": ".py",
   "mimetype": "text/x-python",
   "name": "python",
   "nbconvert_exporter": "python",
   "pygments_lexer": "ipython3",
   "version": "3.11.7"
  }
 },
 "nbformat": 4,
 "nbformat_minor": 5
}
