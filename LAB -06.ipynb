{
 "cells": [
  {
   "cell_type": "markdown",
   "id": "3b86d748-3f8e-4be7-8bab-c45114c0135e",
   "metadata": {},
   "source": [
    "## LAB - 06_without_sorted)\r\n"
   ]
  },
  {
   "cell_type": "markdown",
   "id": "cde8a437-085d-4435-965b-bb021436dc27",
   "metadata": {},
   "source": [
    "## <font color='orange'>Exp - 01 </font>"
   ]
  },
  {
   "cell_type": "code",
   "execution_count": 17,
   "id": "3d1f3b0c-d08c-424a-bb9c-64fc075f6207",
   "metadata": {},
   "outputs": [
    {
     "name": "stdout",
     "output_type": "stream",
     "text": [
      "All iterables must be of the same length when 'strct=True'\n",
      "\n",
      "Zipping with strct=False:\n",
      "[('Alice', 'C001', 120), ('Bob', 'C002', 150), ('Carol', 'C003', 200)]\n"
     ]
    }
   ],
   "source": [
    "def my_zip(*iterables, strct=True):\n",
    "    \n",
    "    # Check lengths of all iterables\n",
    "    lengths = [len(it) for it in iterables]\n",
    "    \n",
    "    if strct and len(set(lengths)) > 1:\n",
    "        raise ValueError(\"All iterables must be of the same length when 'strct=True'\")\n",
    "    \n",
    "    min_length = min(lengths) if not strct else lengths[0]\n",
    "    return [(iterables[0][i], iterables[1][i], iterables[2][i]) for i in range(min_length)]\n",
    "\n",
    "\n",
    "# Example Usage\n",
    "customer_names = [\"Alice\", \"Bob\", \"Carol\", \"David\"]\n",
    "customer_ids = [\"C001\", \"C002\", \"C003\"]\n",
    "shopping_points = [120, 150, 200, 250]\n",
    "\n",
    "# Using strct=True\n",
    "try:\n",
    "    result_strct = my_zip(customer_names, customer_ids, shopping_points, strct=True)\n",
    "    print(\"Zipping with strct=True:\")\n",
    "    print(result_strct)\n",
    "except ValueError as e:\n",
    "    print(e)\n",
    "\n",
    "# Using strct=False\n",
    "result_non_strct = my_zip(customer_names, customer_ids, shopping_points, strct=False)\n",
    "print(\"\\nZipping with strct=False:\")\n",
    "print(result_non_strct)\n"
   ]
  },
  {
   "cell_type": "markdown",
   "id": "c3f09b82-5a98-464a-a9d3-7db15c77d81b",
   "metadata": {},
   "source": [
    "## <font color='orange'>Exp - 02 </font>"
   ]
  },
  {
   "cell_type": "code",
   "execution_count": 15,
   "id": "ef9800ab-009b-492a-bafd-22bfd188bc44",
   "metadata": {},
   "outputs": [
    {
     "name": "stdout",
     "output_type": "stream",
     "text": [
      "Original list of tuples:\n",
      "[('Alice', 'C003', 200), ('Bob', 'C001', 120), ('Carol', 'C002', 150)]\n",
      "\n",
      "Sorted by customer name:\n",
      "[('Alice', 'C003', 200), ('Bob', 'C001', 120), ('Carol', 'C002', 150)]\n",
      "\n",
      "Sorted by customer ID:\n",
      "[('Bob', 'C001', 120), ('Carol', 'C002', 150), ('Alice', 'C003', 200)]\n",
      "\n",
      "Sorted by shopping points:\n",
      "[('Bob', 'C001', 120), ('Carol', 'C002', 150), ('Alice', 'C003', 200)]\n"
     ]
    }
   ],
   "source": [
    "def my_sort(data_list, key):\n",
    "\n",
    "    # Bubble sort implementation\n",
    "    n = len(data_list)\n",
    "    for i in range(n):\n",
    "        for j in range(0, n - i - 1):\n",
    "            # Compare elements based on the specified key\n",
    "            if data_list[j][key] > data_list[j + 1][key]:\n",
    "                data_list[j], data_list[j + 1] = data_list[j + 1], data_list[j]\n",
    "    return data_list\n",
    "\n",
    "\n",
    "# Example Usage:\n",
    "customer_names = [\"Alice\", \"Bob\", \"Carol\"]\n",
    "customer_ids = [\"C003\", \"C001\", \"C002\"]\n",
    "shopping_points = [200, 120, 150]\n",
    "\n",
    "# Creating list of tuples using my_zip function\n",
    "def my_zip(*iterables, strct=True):\n",
    "    lengths = [len(it) for it in iterables]\n",
    "    if strct and len(set(lengths)) > 1:\n",
    "        raise ValueError(\"All iterables must be of the same length when 'strct=True'\")\n",
    "    min_length = min(lengths) if not strct else lengths[0]\n",
    "    return [(iterables[0][i], iterables[1][i], iterables[2][i]) for i in range(min_length)]\n",
    "\n",
    "customer_details = my_zip(customer_names, customer_ids, shopping_points)\n",
    "\n",
    "# Sorting examples\n",
    "print(\"Original list of tuples:\")\n",
    "print(customer_details)\n",
    "\n",
    "# Sort by customer name\n",
    "sorted_by_name = my_sort(customer_details.copy(), key=0)\n",
    "print(\"\\nSorted by customer name:\")\n",
    "print(sorted_by_name)\n",
    "\n",
    "# Sort by customer ID\n",
    "sorted_by_id = my_sort(customer_details.copy(), key=1)\n",
    "print(\"\\nSorted by customer ID:\")\n",
    "print(sorted_by_id)\n",
    "\n",
    "# Sort by shopping points\n",
    "sorted_by_points = my_sort(customer_details.copy(), key=2)\n",
    "print(\"\\nSorted by shopping points:\")\n",
    "print(sorted_by_points)\n"
   ]
  },
  {
   "cell_type": "markdown",
   "id": "a5e5ae71-2698-4b7f-beb0-919239e7f33b",
   "metadata": {},
   "source": [
    "## <font color='orange'>Exp - 03 </font>"
   ]
  },
  {
   "cell_type": "code",
   "execution_count": 13,
   "id": "b7db7d4e-75fd-4a09-afe8-babd68ea57d0",
   "metadata": {},
   "outputs": [
    {
     "name": "stdout",
     "output_type": "stream",
     "text": [
      "Maximum in list: 89\n",
      "Maximum in set: 99\n",
      "Maximum in tuple: 99\n"
     ]
    }
   ],
   "source": [
    "def my_max(*values):\n",
    "    \"\"\"\n",
    "    Custom function to find the maximum value from a list, set, or tuple.\n",
    "    \n",
    "    Parameters:\n",
    "    - *values: Unpacked iterable containing numeric elements.\n",
    "    \n",
    "    Returns:\n",
    "    - Maximum value among the provided values.\n",
    "    \"\"\"\n",
    "    if not values:\n",
    "        raise ValueError(\"my_max() arg is an empty sequence\")\n",
    "    \n",
    "    # Initialize maximum with the first value\n",
    "    maximum = values[0]\n",
    "    \n",
    "    # Iterate through the rest of the values to find the max\n",
    "    for val in values:\n",
    "        if val > maximum:\n",
    "            maximum = val\n",
    "    \n",
    "    return maximum\n",
    "\n",
    "\n",
    "# Example Usage\n",
    "# For a list\n",
    "nums_list = [12, 45, 67, 23, 89, 34]\n",
    "print(\"Maximum in list:\", my_max(*nums_list))\n",
    "\n",
    "# For a set\n",
    "nums_set = {56, 78, 34, 12, 99}\n",
    "print(\"Maximum in set:\", my_max(*nums_set))\n",
    "\n",
    "# For a tuple\n",
    "nums_tuple = (22, 44, 11, 99, 33)\n",
    "print(\"Maximum in tuple:\", my_max(*nums_tuple))\n"
   ]
  },
  {
   "cell_type": "markdown",
   "id": "ebb09eaa-f02b-41d6-b6a6-614fb97eecff",
   "metadata": {},
   "source": [
    "## <font color='orange'>Exp - 04 </font>"
   ]
  },
  {
   "cell_type": "code",
   "execution_count": 19,
   "id": "6182e279-e3f7-4639-9c24-02c66b254fbc",
   "metadata": {},
   "outputs": [
    {
     "name": "stdin",
     "output_type": "stream",
     "text": [
      "Enter a comma-separated string:  Tom 25 Rahu22 2@$\n"
     ]
    },
    {
     "name": "stdout",
     "output_type": "stream",
     "text": [
      "Letters in uppercase: ['TOM']\n",
      "Squares of digits: [625]\n",
      "Alphanumeric parts: ['Tom', '25', 'Rahu22']\n"
     ]
    }
   ],
   "source": [
    "# Take user input\n",
    "user_input = input(\"Enter a comma-separated string: \")\n",
    "\n",
    "# Split the input by spaces to process individual parts\n",
    "parts = user_input.split()\n",
    "\n",
    "# 1. To find all the letters given in the string and convert them to uppercase\n",
    "letters = list(filter(lambda x: x.isalpha(), parts))  # Filter only alphabets\n",
    "uppercase_letters = list(map(lambda x: x.upper(), letters))  # Convert them to uppercase\n",
    "print(\"Letters in uppercase:\", uppercase_letters)\n",
    "\n",
    "# 2. To find all the digits present in the string and find their squares\n",
    "digits = list(filter(lambda x: x.isdigit(), parts))  # Filter only digits\n",
    "squared_digits = list(map(lambda x: int(x)**2, digits))  # Square the digits\n",
    "print(\"Squares of digits:\", squared_digits)\n",
    "\n",
    "# 3. To display all the alphanumeric characters present in the string\n",
    "alphanumeric = list(filter(lambda x: x.isalnum(), parts))  # Filter only alphanumeric strings\n",
    "print(\"Alphanumeric parts:\", alphanumeric)\n"
   ]
  },
  {
   "cell_type": "code",
   "execution_count": null,
   "id": "c63312bb-2342-4249-9150-a5a39bcad794",
   "metadata": {},
   "outputs": [],
   "source": []
  }
 ],
 "metadata": {
  "kernelspec": {
   "display_name": "Python 3 (ipykernel)",
   "language": "python",
   "name": "python3"
  },
  "language_info": {
   "codemirror_mode": {
    "name": "ipython",
    "version": 3
   },
   "file_extension": ".py",
   "mimetype": "text/x-python",
   "name": "python",
   "nbconvert_exporter": "python",
   "pygments_lexer": "ipython3",
   "version": "3.11.7"
  }
 },
 "nbformat": 4,
 "nbformat_minor": 5
}
